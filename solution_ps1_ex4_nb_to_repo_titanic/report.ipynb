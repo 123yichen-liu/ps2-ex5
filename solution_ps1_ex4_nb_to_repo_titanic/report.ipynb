{
 "cells": [
  {
   "cell_type": "markdown",
   "metadata": {},
   "source": [
    "# Feature Selection for Survival Prediction on the Titanic Dataset\n",
    "\n",
    "## Introduction\n",
    "This analysis aims to identify the most relevant features for predicting passenger survival on the Titanic. Using various visualizations, we examine how features such as passenger class, sex, age, fare, and embarkation point impact survival rates. These insights will guide feature selection for building a predictive model.\n"
   ]
  },
  {
   "cell_type": "markdown",
   "metadata": {},
   "source": [
    "### Passenger Class (Pclass)\n",
    "\n",
    "![Survival by Passenger Class](figures/survival_by_class.png)\n",
    "\n",
    "Passengers in higher classes (e.g., first class) had significantly higher survival rates compared to those in lower classes. This suggests that `Pclass` is an important predictor of survival, potentially reflecting socioeconomic status and access to resources during the evacuation.\n"
   ]
  },
  {
   "cell_type": "markdown",
   "metadata": {},
   "source": [
    "### Sex\n",
    "\n",
    "![Survival by Sex](figures/survival_by_sex.png)\n",
    "\n",
    "Survival rates are noticeably higher for females compared to males, likely due to priority given to women during evacuation. `Sex` is thus a strong predictor of survival and should be included in the model.\n"
   ]
  },
  {
   "cell_type": "markdown",
   "metadata": {},
   "source": [
    "### Age\n",
    "\n",
    "![Age Distribution of Survivors vs Non-Survivors](figures/age_distribution.png)\n",
    "\n",
    "The age distribution plot shows that children had higher survival rates compared to adults. This indicates that age may influence survival, possibly because younger passengers were given priority. Therefore, `Age` is a relevant feature for prediction.\n"
   ]
  },
  {
   "cell_type": "markdown",
   "metadata": {},
   "source": [
    "### Fare\n",
    "\n",
    "![Fare Distribution by Survival](figures/fare_distribution.png)\n",
    "\n",
    "Passengers who paid higher fares tend to have higher survival rates. `Fare` could serve as a proxy for socioeconomic status, making it relevant for survival prediction.\n"
   ]
  },
  {
   "cell_type": "markdown",
   "metadata": {},
   "source": [
    "### Embarkation Point (Embarked)\n",
    "\n",
    "![Survival Rate by Embarkation Point](figures/survival_by_embarked.png)\n",
    "\n",
    "Survival rates vary slightly depending on embarkation points. While this feature may not be as strong as others, it could still provide additional context, especially in combination with `Pclass`.\n"
   ]
  },
  {
   "cell_type": "markdown",
   "metadata": {},
   "source": [
    "## Conclusion\n",
    "\n",
    "This analysis highlights key features that are likely to be effective predictors of survival on the Titanic. `Pclass`, `Sex`, and `Age` emerge as the most important features, given their strong correlations with survival. `Fare` and `Embarked` may also provide value, especially when combined with other features. These features will be considered in developing a survival prediction model, as they offer insights into passenger demographics and socioeconomic factors that influenced survival.\n"
   ]
  }
 ],
 "metadata": {
  "language_info": {
   "name": "python"
  }
 },
 "nbformat": 4,
 "nbformat_minor": 2
}
